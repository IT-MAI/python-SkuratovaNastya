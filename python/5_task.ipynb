{
 "cells": [
  {
   "cell_type": "markdown",
   "id": "85755de8",
   "metadata": {},
   "source": [
    "# Самостоятельное задание #5\n",
    "\n",
    "\n",
    "### Задание 1\n",
    "\n",
    "Допишите функцию, которая принимает список, выбирает из него все элементы с четным индексом и возвращает их в виде списка."
   ]
  },
  {
   "cell_type": "code",
   "execution_count": 1,
   "id": "6ef6d9b3",
   "metadata": {},
   "outputs": [],
   "source": [
    "def chet(list):\n",
    "    chet = []\n",
    "    for i in range(1, len(list)):\n",
    "        chet.append(list[i])\n",
    "    return(chet)\n",
    "A = []\n",
    "n = int(input())\n",
    "for i in range(n):\n",
    "    A.append(int(input()))\n",
    "print(chet(A))"
   ]
  },
  {
   "cell_type": "markdown",
   "id": "443974c9",
   "metadata": {},
   "source": [
    "### Задание 2\n",
    "\n",
    "Допишите функцию, которая принимает список, выбирает из него все элементы, которые больше предыдущего и возвращает их в виде списка.\n"
   ]
  },
  {
   "cell_type": "code",
   "execution_count": 2,
   "id": "3a8cf925",
   "metadata": {},
   "outputs": [],
   "source": [
    "def bol(list):\n",
    "    bol = []\n",
    "    for i in range(0, len(list), 2):\n",
    "        if list[i] > list[i-1]:\n",
    "            bol.append(list[i])\n",
    "    return(bol)\n",
    "A = []\n",
    "n = int(input())\n",
    "for i in range(n):\n",
    "    A.append(int(input()))\n",
    "print(bol(A))"
   ]
  },
  {
   "cell_type": "markdown",
   "id": "34524ede",
   "metadata": {},
   "source": [
    "### Задание 3\n",
    "\n",
    "Допишите функцию, которая принимает список, меняет местами наибольший и наименьший элементы и возвращает этот список."
   ]
  },
  {
   "cell_type": "code",
   "execution_count": 3,
   "id": "34d2beae",
   "metadata": {},
   "outputs": [],
   "source": [
    "def maxmin(list):\n",
    "    maxmin = []\n",
    "    for i in range(0, len(list)):\n",
    "        maxmin.append(list[i])\n",
    "        if list[i] == max(list):\n",
    "            imax = i\n",
    "        if list[i] == min(list):\n",
    "            imin = i\n",
    "    maxmin[imax], maxmin[imin] = maxmin[imin], maxmin[imax]\n",
    "    return(maxmin)\n",
    "A = []\n",
    "n = int(input())\n",
    "for i in range(n):\n",
    "    A.append(int(input()))\n",
    "print(maxmin(A))"
   ]
  }
 ],
 "metadata": {
  "kernelspec": {
   "display_name": "Python 3",
   "language": "python",
   "name": "python3"
  },
  "language_info": {
   "codemirror_mode": {
    "name": "ipython",
    "version": 3
   },
   "file_extension": ".py",
   "mimetype": "text/x-python",
   "name": "python",
   "nbconvert_exporter": "python",
   "pygments_lexer": "ipython3",
   "version": "3.9.7"
  }
 },
 "nbformat": 4,
 "nbformat_minor": 5
}
