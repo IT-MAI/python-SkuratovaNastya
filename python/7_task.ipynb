{
 "cells": [
  {
   "cell_type": "markdown",
   "id": "d89e88d8",
   "metadata": {},
   "source": [
    "# Самостоятельное задание #7\n",
    "\n",
    "\n",
    "### Задание 1\n",
    "\n",
    "Допишите функцию, которая принимает список чисел и, с помощью множеств, определяет количество различных чисел внутри списка."
   ]
  },
  {
   "cell_type": "code",
   "execution_count": 1,
   "id": "1b443f02",
   "metadata": {},
   "outputs": [],
   "source": [
    "def num(list):\n",
    "    num_set = set(list)\n",
    "    return len(num_set)\n",
    "A = []\n",
    "n = int(input())\n",
    "for i in range(n):\n",
    "    A.append(int(input()))\n",
    "print(num(A))"
   ]
  },
  {
   "cell_type": "markdown",
   "id": "89118666",
   "metadata": {},
   "source": [
    "### Задание 2\n",
    "\n",
    "Допишите функцию, которая принимает несколько списков чисел и, с помощью множеств, определяет количество общих чисел из первого и второго списка."
   ]
  },
  {
   "cell_type": "code",
   "execution_count": null,
   "id": "9ad5e3fd",
   "metadata": {},
   "outputs": [],
   "source": [
    "def num(list1, list2):\n",
    "    num1_set = set(list1)\n",
    "    num2_set = set(list2)\n",
    "    print()\n",
    "    return len(num1_set) + len(num2_set) - len(num1_set | num2_set)\n",
    "A, B = [], []\n",
    "n1, n2 = int(input()), int(input())\n",
    "for i in range(n1):\n",
    "    A.append(int(input()))\n",
    "for i in range(n2):\n",
    "    B.append(int(input()))\n",
    "print(num(A, B))"
   ]
  }
 ],
 "metadata": {
  "kernelspec": {
   "display_name": "Python 3",
   "language": "python",
   "name": "python3"
  },
  "language_info": {
   "codemirror_mode": {
    "name": "ipython",
    "version": 3
   },
   "file_extension": ".py",
   "mimetype": "text/x-python",
   "name": "python",
   "nbconvert_exporter": "python",
   "pygments_lexer": "ipython3",
   "version": "3.9.7"
  }
 },
 "nbformat": 4,
 "nbformat_minor": 5
}
