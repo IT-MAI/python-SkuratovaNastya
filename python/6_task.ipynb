{
 "cells": [
  {
   "cell_type": "markdown",
   "id": "49944faf",
   "metadata": {},
   "source": [
    "# Самостоятельное задание #6\n",
    "\n",
    "\n",
    "### Задание 1\n",
    "\n",
    "\n",
    "Допишите функцию, которая принимает несколько параметров. Первый параметр - словарь, второй параметр - один из ключей данного словаря. Функция должна выводить значение этого ключа."
   ]
  },
  {
   "cell_type": "code",
   "execution_count": 1,
   "id": "3f41a526",
   "metadata": {},
   "outputs": [],
   "source": [
    "def num(list1, list2):\n",
    "    num1_set = set(list1)\n",
    "    num2_set = set(list2)\n",
    "    print()\n",
    "    return len(num1_set) + len(num2_set) - len(num1_set | num2_set)\n",
    "A, B = [], []\n",
    "print('Введите длины списков:')\n",
    "n1, n2 = int(input()), int(input())\n",
    "for i in range(n1):\n",
    "    A.append(int(input()))\n",
    "for i in range(n2):\n",
    "    B.append(int(input()))\n",
    "print(num(A, B))"
   ]
  }
 ],
 "metadata": {
  "kernelspec": {
   "display_name": "Python 3",
   "language": "python",
   "name": "python3"
  },
  "language_info": {
   "codemirror_mode": {
    "name": "ipython",
    "version": 3
   },
   "file_extension": ".py",
   "mimetype": "text/x-python",
   "name": "python",
   "nbconvert_exporter": "python",
   "pygments_lexer": "ipython3",
   "version": "3.9.7"
  }
 },
 "nbformat": 4,
 "nbformat_minor": 5
}
